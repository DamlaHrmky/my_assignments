{
 "cells": [
  {
   "cell_type": "code",
   "execution_count": 39,
   "id": "f7974131",
   "metadata": {},
   "outputs": [],
   "source": [
    "import scipy.stats as stats\n",
    "from math import sqrt\n",
    "import numpy as np\n",
    "import matplotlib.pyplot as plt\n",
    "import seaborn as sns\n",
    "import pandas as pd"
   ]
  },
  {
   "cell_type": "markdown",
   "id": "fb7b8c73",
   "metadata": {},
   "source": [
    "### EXERCISE 1. \n",
    "What is the normal body temperature for healthy humans? A random sample of 130 healthy human body \n",
    "temperatures provided by Allen Shoemaker yielded 98.25 degrees and standard deviation 0.73 degrees. \n",
    "\n",
    "Give a 99% confidence interval for the average body temperature of healthy people."
   ]
  },
  {
   "cell_type": "code",
   "execution_count": 5,
   "id": "796ef153",
   "metadata": {},
   "outputs": [],
   "source": [
    "x_bar = 98.25 # sample mean\n",
    "n = 130 # number of samples\n",
    "s = 0.73 # sd of population\n",
    "mu = 0 # Population mean"
   ]
  },
  {
   "cell_type": "markdown",
   "id": "d9898c49",
   "metadata": {},
   "source": [
    "#### Confidence Interval= x_bar ± (z *(s/sqrt(n) )\n",
    "For a 99% confidence level, the z-score is approximately 2.576"
   ]
  },
  {
   "cell_type": "code",
   "execution_count": 3,
   "id": "101fe7ca",
   "metadata": {},
   "outputs": [],
   "source": [
    "z = 2.576 # For a 99% confidence level, approximat the z-score"
   ]
  },
  {
   "cell_type": "code",
   "execution_count": 7,
   "id": "afe365aa",
   "metadata": {},
   "outputs": [
    {
     "data": {
      "text/plain": [
       "0.16492900641464822"
      ]
     },
     "execution_count": 7,
     "metadata": {},
     "output_type": "execute_result"
    }
   ],
   "source": [
    "ci = z * (s / sqrt(n))\n",
    "ci"
   ]
  },
  {
   "cell_type": "code",
   "execution_count": 9,
   "id": "c279f725",
   "metadata": {},
   "outputs": [
    {
     "name": "stdout",
     "output_type": "stream",
     "text": [
      "Average body temperature of healthy people in 99% confidence level is approximately between 98.08507099358535 and 98.41492900641465 \n"
     ]
    }
   ],
   "source": [
    "print(f\"Average body temperature of healthy people in 99% confidence level is approximately between {x_bar-ci} and {x_bar+ci} \")"
   ]
  },
  {
   "cell_type": "code",
   "execution_count": 12,
   "id": "e014f050",
   "metadata": {},
   "outputs": [
    {
     "data": {
      "text/plain": [
       "0.06402523540941313"
      ]
     },
     "execution_count": 12,
     "metadata": {},
     "output_type": "execute_result"
    }
   ],
   "source": [
    "# 2. Method with z score and scipy\n",
    "sem = s / np.sqrt(n) # standard error of the mean\n",
    "sem"
   ]
  },
  {
   "cell_type": "code",
   "execution_count": 15,
   "id": "f0313601",
   "metadata": {},
   "outputs": [
    {
     "data": {
      "text/plain": [
       "(98.08508192246582, 98.41491807753418)"
      ]
     },
     "execution_count": 15,
     "metadata": {},
     "output_type": "execute_result"
    }
   ],
   "source": [
    "ci_z = stats.norm.interval(0.99, x_bar, sem)  #  Calculate 99% Confidence Interval\n",
    "ci_z"
   ]
  },
  {
   "cell_type": "code",
   "execution_count": 16,
   "id": "ea38ed88",
   "metadata": {},
   "outputs": [
    {
     "data": {
      "text/plain": [
       "(98.08260738705933, 98.41739261294067)"
      ]
     },
     "execution_count": 16,
     "metadata": {},
     "output_type": "execute_result"
    }
   ],
   "source": [
    "# 3. Method with t score and scipy\n",
    "ci_t = stats.t.interval(0.99,\n",
    "                        n-1,\n",
    "                        loc=x_bar,\n",
    "                        scale=sem)\n",
    "ci_t"
   ]
  },
  {
   "cell_type": "markdown",
   "id": "98573595",
   "metadata": {},
   "source": [
    "### EXERCISE 2.\n",
    "The administrators for a hospital wished to estimate the average number of days required for inpatient treatment of patients between the ages of 25 and 34. A random sample of 500 hospital patients between these ages produced a mean and standard deviation equal to 5.4 and 3.1 days, respectively.\n",
    "\n",
    "Construct a 95% confidence interval for the mean length of stay for the population of patients from which the sample was drawn."
   ]
  },
  {
   "cell_type": "code",
   "execution_count": 18,
   "id": "4f28e5d1",
   "metadata": {},
   "outputs": [],
   "source": [
    "confidence = 0.95 # confidence interval for the mean length of stay for the population of patients\n",
    "n = 500 # sample size\n",
    "x_bar = 5.4 # sample mean\n",
    "s = 3.1 # standard deviation of sample"
   ]
  },
  {
   "cell_type": "code",
   "execution_count": 20,
   "id": "d9f1408b",
   "metadata": {},
   "outputs": [
    {
     "data": {
      "text/plain": [
       "0.13863621460498696"
      ]
     },
     "execution_count": 20,
     "metadata": {},
     "output_type": "execute_result"
    }
   ],
   "source": [
    "sem = s / np.sqrt(n) # standard error of the mean\n",
    "sem"
   ]
  },
  {
   "cell_type": "code",
   "execution_count": 21,
   "id": "df743a3a",
   "metadata": {},
   "outputs": [
    {
     "data": {
      "text/plain": [
       "(5.12827801242126, 5.67172198757874)"
      ]
     },
     "execution_count": 21,
     "metadata": {},
     "output_type": "execute_result"
    }
   ],
   "source": [
    "ci_z = stats.norm.interval(0.95, x_bar, sem)  # estimated average number of days required for inpatient treatment of patients \n",
    "ci_z                                          # between the ages of 25 and 34"
   ]
  },
  {
   "cell_type": "markdown",
   "id": "cb615a7e",
   "metadata": {},
   "source": [
    "### EXERCISE 3.\n",
    "The hourly wages in a particular industry are normally distributed with mean $13.20 and standard deviation $2.50. A company in this industry employs 40 workers, paying them an average of $12.20 per hour. Can this company be accused of paying substandard wages? Use an α = .01 level test. (Wackerly, Ex.10.18)\n",
    "\n",
    "CHECK: statistic: -2.5298221281347035, pvalue= 0.005706018193000826"
   ]
  },
  {
   "cell_type": "code",
   "execution_count": 28,
   "id": "51839302",
   "metadata": {},
   "outputs": [],
   "source": [
    "mu = 13.20    # population mean\n",
    "sigma = 2.50  # standard deviation of population\n",
    "n = 40        # sample size\n",
    "x_bar = 12.20 # sample mean\n"
   ]
  },
  {
   "cell_type": "code",
   "execution_count": 36,
   "id": "5dd61ff9",
   "metadata": {},
   "outputs": [
    {
     "data": {
      "text/plain": [
       "-2.5298221281347035"
      ]
     },
     "execution_count": 36,
     "metadata": {},
     "output_type": "execute_result"
    }
   ],
   "source": [
    "z = (x_bar - mu)/ (sigma/sqrt(n))\n",
    "z"
   ]
  },
  {
   "cell_type": "code",
   "execution_count": 83,
   "id": "20c0f755",
   "metadata": {},
   "outputs": [
    {
     "data": {
      "text/plain": [
       "0.005706018193000826"
      ]
     },
     "execution_count": 83,
     "metadata": {},
     "output_type": "execute_result"
    }
   ],
   "source": [
    "p_value = stats.norm.cdf(z)\n",
    "p_value"
   ]
  },
  {
   "cell_type": "code",
   "execution_count": 84,
   "id": "63395f85",
   "metadata": {},
   "outputs": [
    {
     "name": "stdout",
     "output_type": "stream",
     "text": [
      "At 0.01 level of significance, we can reject the null hypothesis in favor of alternative hypothesis.\n"
     ]
    }
   ],
   "source": [
    "alpha = 0.01\n",
    "\n",
    "if p_value<alpha:\n",
    "    print('At {} level of significance, we can reject the null hypothesis in favor of alternative hypothesis.'.format(alpha))\n",
    "else:\n",
    "    print('At {} level of significance, we fail to reject the null hypothesis.'.format(alpha))"
   ]
  },
  {
   "cell_type": "markdown",
   "id": "3011c8c7",
   "metadata": {},
   "source": [
    "### EXERCISE 4.\n",
    "Shear strength measurements derived from unconfined compression tests for two types of soils gave the results shown in the following document (measurements in tons per square foot). Do the soils appear to differ with respect to average shear strength, at the 1% significance level?\n",
    "\n",
    "Results for two type of soils\n",
    "\n",
    "CHECK: statistic: 5.1681473319343345, pvalue= 2.593228732352821e-06"
   ]
  },
  {
   "cell_type": "code",
   "execution_count": 96,
   "id": "7ad460c4",
   "metadata": {},
   "outputs": [],
   "source": [
    "df = pd.read_excel(\"soil.xlsx\")"
   ]
  },
  {
   "cell_type": "code",
   "execution_count": null,
   "id": "41c20ddd",
   "metadata": {},
   "outputs": [],
   "source": [
    "si = 1 # 1% significance level"
   ]
  },
  {
   "cell_type": "code",
   "execution_count": 97,
   "id": "73a89f7c",
   "metadata": {},
   "outputs": [],
   "source": [
    "soil1 = df['Soil1'].dropna()\n",
    "soil2 = df['Soil2']\n"
   ]
  },
  {
   "cell_type": "code",
   "execution_count": 99,
   "id": "8173d771",
   "metadata": {},
   "outputs": [
    {
     "name": "stdout",
     "output_type": "stream",
     "text": [
      "t-statistic: 5.1681473319343345\n",
      "p-value: 2.593228732352821e-06\n"
     ]
    }
   ],
   "source": [
    "# Perform two-sample t-test\n",
    "t_stat, p_value = stats.ttest_ind(soil1, soil2)\n",
    "\n",
    "# Output the results\n",
    "print(\"t-statistic:\", t_stat)\n",
    "print(\"p-value:\", p_value)"
   ]
  },
  {
   "cell_type": "code",
   "execution_count": 62,
   "id": "b07a3c0a",
   "metadata": {},
   "outputs": [
    {
     "name": "stdout",
     "output_type": "stream",
     "text": [
      "At 0.01 level of significance, we can reject the null hypothesis in favor of alternative hypothesis.\n"
     ]
    }
   ],
   "source": [
    "alpha = 0.01\n",
    "\n",
    "if p_value<alpha:\n",
    "    print('At {} level of significance, we can reject the null hypothesis in favor of alternative hypothesis.'.format(alpha))\n",
    "else:\n",
    "    print('At {} level of significance, we fail to reject the null hypothesis.'.format(alpha))"
   ]
  },
  {
   "cell_type": "markdown",
   "id": "24001f4d",
   "metadata": {},
   "source": [
    "With a t-statistic of approximately 5.168 and a p-value of 2.593228732352821e-06, we can see that the p-value is much smaller than 0.01. Therefore, we reject the null hypothesis and conclude that there is a significant difference in the average shear strength between the two soils at the 1% significance level. This confirms that the soils appear to differ with respect to average shear strength."
   ]
  },
  {
   "cell_type": "markdown",
   "id": "645b2c05",
   "metadata": {},
   "source": [
    "### EXERCISE 5.\n",
    "The following dataset is based on data provided by the World Bank (https://datacatalog.worldbank.org/dataset/education-statistics). World Bank Edstats.  2015 PISA Test Dataset\n",
    "\n",
    "Get descriptive statistics (the central tendency, dispersion and shape of a dataset’s distribution) for each continent group (AS, EU, AF, NA, SA, OC).\n",
    "Determine whether there is any difference (on the average) for the math scores among European (EU) and Asian (AS) countries (assume normality and equal variances). Draw side-by-side box plots.\n",
    "CHECK: statistic=0.870055317967983, pvalue=0.38826888111307345"
   ]
  },
  {
   "cell_type": "code",
   "execution_count": 101,
   "id": "11d1bbd2",
   "metadata": {},
   "outputs": [
    {
     "data": {
      "text/html": [
       "<div>\n",
       "<style scoped>\n",
       "    .dataframe tbody tr th:only-of-type {\n",
       "        vertical-align: middle;\n",
       "    }\n",
       "\n",
       "    .dataframe tbody tr th {\n",
       "        vertical-align: top;\n",
       "    }\n",
       "\n",
       "    .dataframe thead th {\n",
       "        text-align: right;\n",
       "    }\n",
       "</style>\n",
       "<table border=\"1\" class=\"dataframe\">\n",
       "  <thead>\n",
       "    <tr style=\"text-align: right;\">\n",
       "      <th></th>\n",
       "      <th>Country Code</th>\n",
       "      <th>Continent_Code</th>\n",
       "      <th>internet_users_per_100</th>\n",
       "      <th>Math</th>\n",
       "      <th>Reading</th>\n",
       "      <th>Science</th>\n",
       "    </tr>\n",
       "  </thead>\n",
       "  <tbody>\n",
       "    <tr>\n",
       "      <th>0</th>\n",
       "      <td>ALB</td>\n",
       "      <td>EU</td>\n",
       "      <td>63.252933</td>\n",
       "      <td>413.1570</td>\n",
       "      <td>405.2588</td>\n",
       "      <td>427.2250</td>\n",
       "    </tr>\n",
       "    <tr>\n",
       "      <th>1</th>\n",
       "      <td>ARE</td>\n",
       "      <td>AS</td>\n",
       "      <td>90.500000</td>\n",
       "      <td>427.4827</td>\n",
       "      <td>433.5423</td>\n",
       "      <td>436.7311</td>\n",
       "    </tr>\n",
       "    <tr>\n",
       "      <th>2</th>\n",
       "      <td>ARG</td>\n",
       "      <td>SA</td>\n",
       "      <td>68.043064</td>\n",
       "      <td>409.0333</td>\n",
       "      <td>425.3031</td>\n",
       "      <td>432.2262</td>\n",
       "    </tr>\n",
       "    <tr>\n",
       "      <th>3</th>\n",
       "      <td>AUS</td>\n",
       "      <td>OC</td>\n",
       "      <td>84.560519</td>\n",
       "      <td>493.8962</td>\n",
       "      <td>502.9006</td>\n",
       "      <td>509.9939</td>\n",
       "    </tr>\n",
       "    <tr>\n",
       "      <th>4</th>\n",
       "      <td>AUT</td>\n",
       "      <td>EU</td>\n",
       "      <td>83.940142</td>\n",
       "      <td>496.7423</td>\n",
       "      <td>484.8656</td>\n",
       "      <td>495.0375</td>\n",
       "    </tr>\n",
       "    <tr>\n",
       "      <th>...</th>\n",
       "      <td>...</td>\n",
       "      <td>...</td>\n",
       "      <td>...</td>\n",
       "      <td>...</td>\n",
       "      <td>...</td>\n",
       "      <td>...</td>\n",
       "    </tr>\n",
       "    <tr>\n",
       "      <th>65</th>\n",
       "      <td>TUN</td>\n",
       "      <td>AF</td>\n",
       "      <td>48.519836</td>\n",
       "      <td>366.8180</td>\n",
       "      <td>361.0555</td>\n",
       "      <td>386.4034</td>\n",
       "    </tr>\n",
       "    <tr>\n",
       "      <th>66</th>\n",
       "      <td>TUR</td>\n",
       "      <td>EU</td>\n",
       "      <td>53.744979</td>\n",
       "      <td>420.4540</td>\n",
       "      <td>428.3351</td>\n",
       "      <td>425.4895</td>\n",
       "    </tr>\n",
       "    <tr>\n",
       "      <th>67</th>\n",
       "      <td>URY</td>\n",
       "      <td>SA</td>\n",
       "      <td>64.600000</td>\n",
       "      <td>417.9919</td>\n",
       "      <td>436.5721</td>\n",
       "      <td>435.3630</td>\n",
       "    </tr>\n",
       "    <tr>\n",
       "      <th>68</th>\n",
       "      <td>USA</td>\n",
       "      <td>NaN</td>\n",
       "      <td>74.554202</td>\n",
       "      <td>469.6285</td>\n",
       "      <td>496.9351</td>\n",
       "      <td>496.2424</td>\n",
       "    </tr>\n",
       "    <tr>\n",
       "      <th>69</th>\n",
       "      <td>VNM</td>\n",
       "      <td>AS</td>\n",
       "      <td>43.500000</td>\n",
       "      <td>494.5183</td>\n",
       "      <td>486.7738</td>\n",
       "      <td>524.6445</td>\n",
       "    </tr>\n",
       "  </tbody>\n",
       "</table>\n",
       "<p>70 rows × 6 columns</p>\n",
       "</div>"
      ],
      "text/plain": [
       "   Country Code Continent_Code  internet_users_per_100      Math   Reading  \\\n",
       "0           ALB             EU               63.252933  413.1570  405.2588   \n",
       "1           ARE             AS               90.500000  427.4827  433.5423   \n",
       "2           ARG             SA               68.043064  409.0333  425.3031   \n",
       "3           AUS             OC               84.560519  493.8962  502.9006   \n",
       "4           AUT             EU               83.940142  496.7423  484.8656   \n",
       "..          ...            ...                     ...       ...       ...   \n",
       "65          TUN             AF               48.519836  366.8180  361.0555   \n",
       "66          TUR             EU               53.744979  420.4540  428.3351   \n",
       "67          URY             SA               64.600000  417.9919  436.5721   \n",
       "68          USA            NaN               74.554202  469.6285  496.9351   \n",
       "69          VNM             AS               43.500000  494.5183  486.7738   \n",
       "\n",
       "     Science  \n",
       "0   427.2250  \n",
       "1   436.7311  \n",
       "2   432.2262  \n",
       "3   509.9939  \n",
       "4   495.0375  \n",
       "..       ...  \n",
       "65  386.4034  \n",
       "66  425.4895  \n",
       "67  435.3630  \n",
       "68  496.2424  \n",
       "69  524.6445  \n",
       "\n",
       "[70 rows x 6 columns]"
      ]
     },
     "execution_count": 101,
     "metadata": {},
     "output_type": "execute_result"
    }
   ],
   "source": [
    "data = pd.read_csv(\"2015 PISA Test - Sheet1.csv\" )\n",
    "data"
   ]
  },
  {
   "cell_type": "code",
   "execution_count": 103,
   "id": "5908ce28",
   "metadata": {},
   "outputs": [],
   "source": [
    "continent_groups = ['AS', 'EU', 'AF', 'NA', 'SA', 'OC']\n",
    "continent_data = {continent: data[data['Continent_Code'] == continent] for continent in continent_groups}"
   ]
  },
  {
   "cell_type": "code",
   "execution_count": 105,
   "id": "cd0604f0",
   "metadata": {},
   "outputs": [
    {
     "data": {
      "image/png": "[encoded data removed]",
      "text/plain": [
       "<Figure size 800x600 with 1 Axes>"
      ]
     },
     "metadata": {},
     "output_type": "display_data"
    },
    {
     "name": "stdout",
     "output_type": "stream",
     "text": [
      "Descriptive Statistics:\n",
      "\n",
      "Continent: AS\n",
      "count     17.000000\n",
      "mean     466.216647\n",
      "std       64.356490\n",
      "min      380.259000\n",
      "25%      403.833200\n",
      "50%      459.816000\n",
      "75%      531.296100\n",
      "max      564.189700\n",
      "Name: Math, dtype: float64\n",
      "\n",
      "Continent: EU\n",
      "count     37.000000\n",
      "mean     477.981449\n",
      "std       35.150403\n",
      "min      371.311400\n",
      "25%      464.040100\n",
      "50%      489.728700\n",
      "75%      503.722000\n",
      "max      521.250600\n",
      "Name: Math, dtype: float64\n",
      "\n",
      "Continent: AF\n",
      "count      2.000000\n",
      "mean     363.212100\n",
      "std        5.099513\n",
      "min      359.606200\n",
      "25%      361.409150\n",
      "50%      363.212100\n",
      "75%      365.015050\n",
      "max      366.818000\n",
      "Name: Math, dtype: float64\n",
      "\n",
      "Continent: NA\n",
      "count    0.0\n",
      "mean     NaN\n",
      "std      NaN\n",
      "min      NaN\n",
      "25%      NaN\n",
      "50%      NaN\n",
      "75%      NaN\n",
      "max      NaN\n",
      "Name: Math, dtype: float64\n",
      "\n",
      "Continent: SA\n",
      "count      7.000000\n",
      "mean     402.887700\n",
      "std       18.128894\n",
      "min      377.069500\n",
      "25%      388.102200\n",
      "50%      409.033300\n",
      "75%      417.617650\n",
      "max      422.671400\n",
      "Name: Math, dtype: float64\n",
      "\n",
      "Continent: OC\n",
      "count      2.000000\n",
      "mean     494.559750\n",
      "std        0.938401\n",
      "min      493.896200\n",
      "25%      494.227975\n",
      "50%      494.559750\n",
      "75%      494.891525\n",
      "max      495.223300\n",
      "Name: Math, dtype: float64\n",
      "\n",
      "T-test Results:\n",
      "t-statistic: 0.870055317967983\n",
      "p-value: 0.38826888111307345\n"
     ]
    }
   ],
   "source": [
    "statistics = {}\n",
    "for continent, continent_df in continent_data.items():\n",
    "    statistics[continent] = continent_df['Math'].describe()\n",
    "\n",
    "# Compare the average math scores between European and Asian countries\n",
    "european_scores = continent_data['EU']['Math']\n",
    "asian_scores = continent_data['AS']['Math']\n",
    "t_stat, p_value = stats.ttest_ind(european_scores, asian_scores, equal_var=True)\n",
    "\n",
    "# Draw side-by-side box plots\n",
    "plt.figure(figsize=(8, 6))\n",
    "plt.boxplot([european_scores, asian_scores], labels=['European', 'Asian'])\n",
    "plt.title('Math Scores of European and Asian Countries')\n",
    "plt.xlabel('Continent')\n",
    "plt.ylabel('Math Score')\n",
    "plt.grid(True)\n",
    "plt.show()\n",
    "\n",
    "# Output the results\n",
    "print(\"Descriptive Statistics:\")\n",
    "for continent, stats in statistics.items():\n",
    "    print(\"\\nContinent:\", continent)\n",
    "    print(stats)\n",
    "\n",
    "print(\"\\nT-test Results:\")\n",
    "print(\"t-statistic:\", t_stat)\n",
    "print(\"p-value:\", p_value)"
   ]
  },
  {
   "cell_type": "markdown",
   "id": "7133f52d",
   "metadata": {},
   "source": [
    "-- We have a Null Hypothesis which is \"There is no significant difference in math scores between European (EU) and Asian (AS) countries.\"\n",
    "-- According to the t-statistics, since the p-value (0.38826888111307345) is greater than the significance level (usually 0.05), we cannot reject the hypothesis. \n",
    "-- Based on these results, we can conclude that there is no significant difference in math scores between European (EU) and Asian (AS) countries."
   ]
  },
  {
   "cell_type": "code",
   "execution_count": null,
   "id": "6ee3a46b",
   "metadata": {},
   "outputs": [],
   "source": []
  }
 ],
 "metadata": {
  "kernelspec": {
   "display_name": "Python 3 (ipykernel)",
   "language": "python",
   "name": "python3"
  },
  "language_info": {
   "codemirror_mode": {
    "name": "ipython",
    "version": 3
   },
   "file_extension": ".py",
   "mimetype": "text/x-python",
   "name": "python",
   "nbconvert_exporter": "python",
   "pygments_lexer": "ipython3",
   "version": "3.11.5"
  },
  "varInspector": {
   "cols": {
    "lenName": 16,
    "lenType": 16,
    "lenVar": 40
   },
   "kernels_config": {
    "python": {
     "delete_cmd_postfix": "",
     "delete_cmd_prefix": "del ",
     "library": "var_list.py",
     "varRefreshCmd": "print(var_dic_list())"
    },
    "r": {
     "delete_cmd_postfix": ") ",
     "delete_cmd_prefix": "rm(",
     "library": "var_list.r",
     "varRefreshCmd": "cat(var_dic_list()) "
    }
   },
   "types_to_exclude": [
    "module",
    "function",
    "builtin_function_or_method",
    "instance",
    "_Feature"
   ],
   "window_display": false
  }
 },
 "nbformat": 4,
 "nbformat_minor": 5
}
